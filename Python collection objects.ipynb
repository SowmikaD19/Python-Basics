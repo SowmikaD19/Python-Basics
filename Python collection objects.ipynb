{
 "cells": [
  {
   "cell_type": "code",
   "execution_count": 1,
   "id": "c3a0083a",
   "metadata": {},
   "outputs": [
    {
     "name": "stdout",
     "output_type": "stream",
     "text": [
      "Sow\n"
     ]
    },
    {
     "data": {
      "text/plain": [
       "str"
      ]
     },
     "execution_count": 1,
     "metadata": {},
     "output_type": "execute_result"
    }
   ],
   "source": [
    "name = \"Sow\"\n",
    "print(name)\n",
    "type(name)"
   ]
  },
  {
   "cell_type": "markdown",
   "id": "eed3561f",
   "metadata": {},
   "source": [
    "## Indexing and Slicing"
   ]
  },
  {
   "cell_type": "code",
   "execution_count": 2,
   "id": "eef6efae",
   "metadata": {},
   "outputs": [
    {
     "data": {
      "text/plain": [
       "'I'"
      ]
     },
     "execution_count": 2,
     "metadata": {},
     "output_type": "execute_result"
    }
   ],
   "source": [
    "text = \"I love Python\"\n",
    "text[0]"
   ]
  },
  {
   "cell_type": "code",
   "execution_count": 3,
   "id": "1c3bcbb0",
   "metadata": {},
   "outputs": [
    {
     "data": {
      "text/plain": [
       "'I love Python'"
      ]
     },
     "execution_count": 3,
     "metadata": {},
     "output_type": "execute_result"
    }
   ],
   "source": [
    "text[:]                 #displays all the elements"
   ]
  },
  {
   "cell_type": "code",
   "execution_count": 4,
   "id": "2a2fdccc",
   "metadata": {},
   "outputs": [
    {
     "ename": "IndexError",
     "evalue": "string index out of range",
     "output_type": "error",
     "traceback": [
      "\u001b[1;31m---------------------------------------------------------------------------\u001b[0m",
      "\u001b[1;31mIndexError\u001b[0m                                Traceback (most recent call last)",
      "\u001b[1;32m<ipython-input-4-7cddca46059c>\u001b[0m in \u001b[0;36m<module>\u001b[1;34m\u001b[0m\n\u001b[1;32m----> 1\u001b[1;33m \u001b[0mtext\u001b[0m\u001b[1;33m[\u001b[0m\u001b[0mlen\u001b[0m\u001b[1;33m(\u001b[0m\u001b[0mtext\u001b[0m\u001b[1;33m)\u001b[0m\u001b[1;33m]\u001b[0m\u001b[1;33m\u001b[0m\u001b[1;33m\u001b[0m\u001b[0m\n\u001b[0m",
      "\u001b[1;31mIndexError\u001b[0m: string index out of range"
     ]
    }
   ],
   "source": [
    "text[len(text)]"
   ]
  },
  {
   "cell_type": "code",
   "execution_count": 5,
   "id": "a5bc2af6",
   "metadata": {},
   "outputs": [
    {
     "data": {
      "text/plain": [
       "'I love Python'"
      ]
     },
     "execution_count": 5,
     "metadata": {},
     "output_type": "execute_result"
    }
   ],
   "source": [
    "text[:len(text)]                # displays all elements using len()\n",
    "                                # len() function gives length of the variable"
   ]
  },
  {
   "cell_type": "code",
   "execution_count": 6,
   "id": "fe582d76",
   "metadata": {},
   "outputs": [
    {
     "data": {
      "text/plain": [
       "'I love'"
      ]
     },
     "execution_count": 6,
     "metadata": {},
     "output_type": "execute_result"
    }
   ],
   "source": [
    "text[0:6]"
   ]
  },
  {
   "cell_type": "code",
   "execution_count": 7,
   "id": "f9ebe589",
   "metadata": {},
   "outputs": [
    {
     "data": {
      "text/plain": [
       "'love Python'"
      ]
     },
     "execution_count": 7,
     "metadata": {},
     "output_type": "execute_result"
    }
   ],
   "source": [
    "text[2:]"
   ]
  },
  {
   "cell_type": "code",
   "execution_count": 8,
   "id": "5393b334",
   "metadata": {},
   "outputs": [
    {
     "data": {
      "text/plain": [
       "' love Pytho'"
      ]
     },
     "execution_count": 8,
     "metadata": {},
     "output_type": "execute_result"
    }
   ],
   "source": [
    "text[1:-1]               # displaying text from second letter to the second last letter"
   ]
  },
  {
   "cell_type": "code",
   "execution_count": 9,
   "id": "59a7f16f",
   "metadata": {},
   "outputs": [
    {
     "data": {
      "text/plain": [
       "'nohtyP evol I'"
      ]
     },
     "execution_count": 9,
     "metadata": {},
     "output_type": "execute_result"
    }
   ],
   "source": [
    "text[::-1]                # reverses the string using indexing"
   ]
  },
  {
   "cell_type": "code",
   "execution_count": 10,
   "id": "3eeb4110",
   "metadata": {},
   "outputs": [
    {
     "data": {
      "text/plain": [
       "'l'"
      ]
     },
     "execution_count": 10,
     "metadata": {},
     "output_type": "execute_result"
    }
   ],
   "source": [
    "text[::-1][-3]           # reverses the string and displace the third last letter"
   ]
  },
  {
   "cell_type": "markdown",
   "id": "750fb1bb",
   "metadata": {},
   "source": [
    "## String Handling"
   ]
  },
  {
   "cell_type": "code",
   "execution_count": 11,
   "id": "1cab4466",
   "metadata": {},
   "outputs": [
    {
     "data": {
      "text/plain": [
       "'I love Data Science'"
      ]
     },
     "execution_count": 11,
     "metadata": {},
     "output_type": "execute_result"
    }
   ],
   "source": [
    "text.replace(\"Python\",\"Data Science\")          # replaces python with data science"
   ]
  },
  {
   "cell_type": "code",
   "execution_count": 12,
   "id": "88bec735",
   "metadata": {},
   "outputs": [
    {
     "data": {
      "text/plain": [
       "'I LOVE PYTHON'"
      ]
     },
     "execution_count": 12,
     "metadata": {},
     "output_type": "execute_result"
    }
   ],
   "source": [
    "text.upper()             # converts string in uppercase"
   ]
  },
  {
   "cell_type": "code",
   "execution_count": 13,
   "id": "20d521b1",
   "metadata": {},
   "outputs": [
    {
     "data": {
      "text/plain": [
       "'i love python'"
      ]
     },
     "execution_count": 13,
     "metadata": {},
     "output_type": "execute_result"
    }
   ],
   "source": [
    "text.lower()            # converts string in lowercase"
   ]
  },
  {
   "cell_type": "code",
   "execution_count": 14,
   "id": "88ef5bb2",
   "metadata": {},
   "outputs": [
    {
     "data": {
      "text/plain": [
       "'I Love Python'"
      ]
     },
     "execution_count": 14,
     "metadata": {},
     "output_type": "execute_result"
    }
   ],
   "source": [
    "text.title()           # coverts each letter of first word into uppercase"
   ]
  },
  {
   "cell_type": "markdown",
   "id": "2999b063",
   "metadata": {},
   "source": [
    "### concatenate each element of date with sep"
   ]
  },
  {
   "cell_type": "code",
   "execution_count": 15,
   "id": "89474ec5",
   "metadata": {},
   "outputs": [
    {
     "data": {
      "text/plain": [
       "'01-10-2021'"
      ]
     },
     "execution_count": 15,
     "metadata": {},
     "output_type": "execute_result"
    }
   ],
   "source": [
    "date = \"01\",\"10\",\"2021\"\n",
    "sep = \"-\"\n",
    "sep.join(date)"
   ]
  },
  {
   "cell_type": "code",
   "execution_count": 16,
   "id": "1893ea8c",
   "metadata": {},
   "outputs": [
    {
     "data": {
      "text/plain": [
       "'Python*for*data*science'"
      ]
     },
     "execution_count": 16,
     "metadata": {},
     "output_type": "execute_result"
    }
   ],
   "source": [
    "text = \"***Python*for*data*science***\"           # prints the string by removing leading and trailing \"*\" character\n",
    "text.strip(\"*\")"
   ]
  },
  {
   "cell_type": "code",
   "execution_count": 17,
   "id": "d0ce0cb2",
   "metadata": {},
   "outputs": [
    {
     "data": {
      "text/plain": [
       "'Python for data science'"
      ]
     },
     "execution_count": 17,
     "metadata": {},
     "output_type": "execute_result"
    }
   ],
   "source": [
    "text = \"***Python for data science***\"          # prints the string by removing leading \"*\" character\n",
    "text.strip(\"*\")"
   ]
  },
  {
   "cell_type": "code",
   "execution_count": 19,
   "id": "779bba9a",
   "metadata": {},
   "outputs": [
    {
     "data": {
      "text/plain": [
       "'Python for data science'"
      ]
     },
     "execution_count": 19,
     "metadata": {},
     "output_type": "execute_result"
    }
   ],
   "source": [
    "text = \"Python for data science***\"            # prints the string by removing trailing \"*\" character\n",
    "text.strip(\"*\")"
   ]
  },
  {
   "cell_type": "code",
   "execution_count": null,
   "id": "7d1009a4",
   "metadata": {},
   "outputs": [],
   "source": []
  },
  {
   "cell_type": "markdown",
   "id": "b126dd62",
   "metadata": {},
   "source": [
    "# List"
   ]
  },
  {
   "cell_type": "code",
   "execution_count": 20,
   "id": "c24d4759",
   "metadata": {},
   "outputs": [
    {
     "name": "stdout",
     "output_type": "stream",
     "text": [
      "['DS', 'ML', 'AI']\n"
     ]
    },
    {
     "data": {
      "text/plain": [
       "list"
      ]
     },
     "execution_count": 20,
     "metadata": {},
     "output_type": "execute_result"
    }
   ],
   "source": [
    "l = [\"DS\",\"ML\",\"AI\"]             # creating a list\n",
    "print(l)\n",
    "type(l)"
   ]
  },
  {
   "cell_type": "markdown",
   "id": "5147d603",
   "metadata": {},
   "source": [
    "### concatenate"
   ]
  },
  {
   "cell_type": "code",
   "execution_count": 22,
   "id": "4d263341",
   "metadata": {},
   "outputs": [
    {
     "name": "stdout",
     "output_type": "stream",
     "text": [
      "['DS', 'ML', 'AI', 'python', 'R']\n"
     ]
    },
    {
     "data": {
      "text/plain": [
       "list"
      ]
     },
     "execution_count": 22,
     "metadata": {},
     "output_type": "execute_result"
    }
   ],
   "source": [
    "l = [\"DS\",\"ML\",\"AI\"]\n",
    "l1 = [\"python\",\"R\"]\n",
    "course = l + l1\n",
    "print(course)\n",
    "type(course)"
   ]
  },
  {
   "cell_type": "markdown",
   "id": "488e3436",
   "metadata": {},
   "source": [
    "### append"
   ]
  },
  {
   "cell_type": "code",
   "execution_count": 23,
   "id": "75a6be1c",
   "metadata": {},
   "outputs": [
    {
     "name": "stdout",
     "output_type": "stream",
     "text": [
      "['DS', 'ML', 'AI', 'python', 'R', 'python libraries']\n"
     ]
    }
   ],
   "source": [
    "course.append(\"python libraries\")\n",
    "print(course)"
   ]
  },
  {
   "cell_type": "markdown",
   "id": "af80a527",
   "metadata": {},
   "source": [
    "### sorting elements in list"
   ]
  },
  {
   "cell_type": "code",
   "execution_count": 24,
   "id": "d94e5d47",
   "metadata": {},
   "outputs": [
    {
     "data": {
      "text/plain": [
       "[2, 7, 19, 26, 45]"
      ]
     },
     "execution_count": 24,
     "metadata": {},
     "output_type": "execute_result"
    }
   ],
   "source": [
    "a = [2,19,7,26,45]\n",
    "a.sort()\n",
    "a"
   ]
  },
  {
   "cell_type": "markdown",
   "id": "99a301e0",
   "metadata": {},
   "source": [
    "#### sorting cannot happen in mixed datatype"
   ]
  },
  {
   "cell_type": "code",
   "execution_count": 26,
   "id": "c9c802d6",
   "metadata": {},
   "outputs": [
    {
     "ename": "TypeError",
     "evalue": "'<' not supported between instances of 'str' and 'int'",
     "output_type": "error",
     "traceback": [
      "\u001b[1;31m---------------------------------------------------------------------------\u001b[0m",
      "\u001b[1;31mTypeError\u001b[0m                                 Traceback (most recent call last)",
      "\u001b[1;32m<ipython-input-26-c7956e5e794e>\u001b[0m in \u001b[0;36m<module>\u001b[1;34m\u001b[0m\n\u001b[0;32m      1\u001b[0m \u001b[0mlist_with_mixed_datatypes\u001b[0m \u001b[1;33m=\u001b[0m \u001b[1;33m[\u001b[0m\u001b[1;36m45\u001b[0m\u001b[1;33m,\u001b[0m\u001b[1;34m\"sow\"\u001b[0m\u001b[1;33m,\u001b[0m\u001b[1;36m19.26\u001b[0m\u001b[1;33m,\u001b[0m\u001b[1;34m\"paris\"\u001b[0m\u001b[1;33m]\u001b[0m\u001b[1;33m\u001b[0m\u001b[1;33m\u001b[0m\u001b[0m\n\u001b[1;32m----> 2\u001b[1;33m \u001b[0mlist_with_mixed_datatypes\u001b[0m\u001b[1;33m.\u001b[0m\u001b[0msort\u001b[0m\u001b[1;33m(\u001b[0m\u001b[1;33m)\u001b[0m\u001b[1;33m\u001b[0m\u001b[1;33m\u001b[0m\u001b[0m\n\u001b[0m\u001b[0;32m      3\u001b[0m \u001b[0mlist_with_mixed_datatypes\u001b[0m\u001b[1;33m\u001b[0m\u001b[1;33m\u001b[0m\u001b[0m\n",
      "\u001b[1;31mTypeError\u001b[0m: '<' not supported between instances of 'str' and 'int'"
     ]
    }
   ],
   "source": [
    "list_with_mixed_datatypes = [45,\"sow\",19.26,\"paris\"]\n",
    "list_with_mixed_datatypes.sort()\n",
    "list_with_mixed_datatypes"
   ]
  },
  {
   "cell_type": "markdown",
   "id": "83572658",
   "metadata": {},
   "source": [
    "### sorting using sorted() function"
   ]
  },
  {
   "cell_type": "code",
   "execution_count": 27,
   "id": "ca7a6efe",
   "metadata": {},
   "outputs": [
    {
     "data": {
      "text/plain": [
       "[2, 19, 7, 26, 45]"
      ]
     },
     "execution_count": 27,
     "metadata": {},
     "output_type": "execute_result"
    }
   ],
   "source": [
    "a = [2,19,7,26,45]\n",
    "a_sorted = sorted(a)\n",
    "a"
   ]
  },
  {
   "cell_type": "markdown",
   "id": "ee8a02ce",
   "metadata": {},
   "source": [
    "### checking presence of an element in the list"
   ]
  },
  {
   "cell_type": "code",
   "execution_count": 28,
   "id": "081fa012",
   "metadata": {},
   "outputs": [
    {
     "name": "stdout",
     "output_type": "stream",
     "text": [
      "True\n"
     ]
    }
   ],
   "source": [
    "a = [2,19,7,26,45]\n",
    "print(45 in a)\n"
   ]
  },
  {
   "cell_type": "code",
   "execution_count": 29,
   "id": "13f8ea04",
   "metadata": {},
   "outputs": [
    {
     "name": "stdout",
     "output_type": "stream",
     "text": [
      "False\n"
     ]
    }
   ],
   "source": [
    "a = [2,19,7,26,45]\n",
    "print(14 in a)"
   ]
  },
  {
   "cell_type": "markdown",
   "id": "3b888d58",
   "metadata": {},
   "source": [
    "### iterating through a list"
   ]
  },
  {
   "cell_type": "code",
   "execution_count": 30,
   "id": "c5305dba",
   "metadata": {},
   "outputs": [
    {
     "name": "stdout",
     "output_type": "stream",
     "text": [
      "['DS', 'ML', 'AI']\n",
      "['DS', 'ML', 'AI']\n",
      "['DS', 'ML', 'AI']\n"
     ]
    }
   ],
   "source": [
    "l = [\"DS\",\"ML\",\"AI\"]\n",
    "for course in l:\n",
    "    print(l)"
   ]
  },
  {
   "cell_type": "markdown",
   "id": "bd43d782",
   "metadata": {},
   "source": [
    "### length"
   ]
  },
  {
   "cell_type": "code",
   "execution_count": 31,
   "id": "3efac415",
   "metadata": {},
   "outputs": [
    {
     "data": {
      "text/plain": [
       "5"
      ]
     },
     "execution_count": 31,
     "metadata": {},
     "output_type": "execute_result"
    }
   ],
   "source": [
    "a = [2,19,7,26,45]\n",
    "len(a)"
   ]
  },
  {
   "cell_type": "markdown",
   "id": "447a81d6",
   "metadata": {},
   "source": [
    "### maximum value"
   ]
  },
  {
   "cell_type": "code",
   "execution_count": 32,
   "id": "c954f4c5",
   "metadata": {},
   "outputs": [
    {
     "data": {
      "text/plain": [
       "45"
      ]
     },
     "execution_count": 32,
     "metadata": {},
     "output_type": "execute_result"
    }
   ],
   "source": [
    "a = [2,19,7,26,45]\n",
    "max(a)"
   ]
  },
  {
   "cell_type": "markdown",
   "id": "4f8f88db",
   "metadata": {},
   "source": [
    "### minimum value"
   ]
  },
  {
   "cell_type": "code",
   "execution_count": 33,
   "id": "dabbd770",
   "metadata": {},
   "outputs": [
    {
     "data": {
      "text/plain": [
       "2"
      ]
     },
     "execution_count": 33,
     "metadata": {},
     "output_type": "execute_result"
    }
   ],
   "source": [
    "a = [2,19,7,26,45]\n",
    "min(a)"
   ]
  },
  {
   "cell_type": "markdown",
   "id": "be003cfe",
   "metadata": {},
   "source": [
    "### removing all elements of list"
   ]
  },
  {
   "cell_type": "code",
   "execution_count": 34,
   "id": "d009e113",
   "metadata": {},
   "outputs": [
    {
     "name": "stdout",
     "output_type": "stream",
     "text": [
      "['DS', 'ML', 'AI']\n"
     ]
    },
    {
     "data": {
      "text/plain": [
       "[]"
      ]
     },
     "execution_count": 34,
     "metadata": {},
     "output_type": "execute_result"
    }
   ],
   "source": [
    "l = [\"DS\",\"ML\",\"AI\"]\n",
    "print(l)\n",
    "l.clear()\n",
    "l"
   ]
  },
  {
   "cell_type": "markdown",
   "id": "d8945cbc",
   "metadata": {},
   "source": [
    "### making a shallow copy of an existing list"
   ]
  },
  {
   "cell_type": "code",
   "execution_count": 35,
   "id": "b1cdf2b2",
   "metadata": {},
   "outputs": [
    {
     "name": "stdout",
     "output_type": "stream",
     "text": [
      "['tea', 'coffee', 'icecream']\n",
      "['tea', 'coffee', 'icecream']\n"
     ]
    }
   ],
   "source": [
    "products = [\"tea\", \"coffee\", \"icecream\"]\n",
    "new_product = products.copy()\n",
    "print(products)\n",
    "print(new_product)"
   ]
  },
  {
   "cell_type": "markdown",
   "id": "91fe911c",
   "metadata": {},
   "source": [
    "### count"
   ]
  },
  {
   "cell_type": "code",
   "execution_count": 36,
   "id": "362ca208",
   "metadata": {},
   "outputs": [
    {
     "data": {
      "text/plain": [
       "2"
      ]
     },
     "execution_count": 36,
     "metadata": {},
     "output_type": "execute_result"
    }
   ],
   "source": [
    "products = [\"tea\", \"coffee\", \"icecream\",\"tea\"]\n",
    "products.count(\"tea\")"
   ]
  },
  {
   "cell_type": "markdown",
   "id": "b4ee0592",
   "metadata": {},
   "source": [
    "### extending an element"
   ]
  },
  {
   "cell_type": "code",
   "execution_count": 37,
   "id": "6380f469",
   "metadata": {},
   "outputs": [
    {
     "data": {
      "text/plain": [
       "['DS', 'ML', 'AI', 'python', 'R']"
      ]
     },
     "execution_count": 37,
     "metadata": {},
     "output_type": "execute_result"
    }
   ],
   "source": [
    "l = [\"DS\",\"ML\",\"AI\"]\n",
    "l1 = [\"python\",\"R\"]\n",
    "l.extend(l1)\n",
    "l"
   ]
  },
  {
   "cell_type": "markdown",
   "id": "a47e7903",
   "metadata": {},
   "source": [
    "### index position"
   ]
  },
  {
   "cell_type": "code",
   "execution_count": 38,
   "id": "9ca99d78",
   "metadata": {},
   "outputs": [
    {
     "data": {
      "text/plain": [
       "1"
      ]
     },
     "execution_count": 38,
     "metadata": {},
     "output_type": "execute_result"
    }
   ],
   "source": [
    "l = [\"DS\",\"ML\",\"AI\"]\n",
    "l.index(\"ML\")"
   ]
  },
  {
   "cell_type": "markdown",
   "id": "0883480c",
   "metadata": {},
   "source": [
    "### inserting"
   ]
  },
  {
   "cell_type": "code",
   "execution_count": 39,
   "id": "61f30041",
   "metadata": {},
   "outputs": [
    {
     "data": {
      "text/plain": [
       "['DS', 'ML', 'AI', 'python']"
      ]
     },
     "execution_count": 39,
     "metadata": {},
     "output_type": "execute_result"
    }
   ],
   "source": [
    "l = [\"DS\",\"ML\",\"AI\"]\n",
    "l.insert(3,\"python\")\n",
    "l"
   ]
  },
  {
   "cell_type": "markdown",
   "id": "dad53523",
   "metadata": {},
   "source": [
    "### removing an element using pop()"
   ]
  },
  {
   "cell_type": "code",
   "execution_count": 40,
   "id": "9d0057ea",
   "metadata": {},
   "outputs": [
    {
     "data": {
      "text/plain": [
       "['DS', 'ML']"
      ]
     },
     "execution_count": 40,
     "metadata": {},
     "output_type": "execute_result"
    }
   ],
   "source": [
    "l = [\"DS\",\"ML\",\"AI\"]\n",
    "l.pop(2)\n",
    "l"
   ]
  },
  {
   "cell_type": "markdown",
   "id": "701fa34c",
   "metadata": {},
   "source": [
    "### removing an element using remove()"
   ]
  },
  {
   "cell_type": "code",
   "execution_count": 41,
   "id": "1632be89",
   "metadata": {},
   "outputs": [
    {
     "data": {
      "text/plain": [
       "['DS', 'AI', 'ML']"
      ]
     },
     "execution_count": 41,
     "metadata": {},
     "output_type": "execute_result"
    }
   ],
   "source": [
    "l = [\"DS\",\"ML\",\"AI\",\"ML\"]\n",
    "l.remove(\"ML\")\n",
    "l"
   ]
  },
  {
   "cell_type": "markdown",
   "id": "36980a7e",
   "metadata": {},
   "source": [
    "### reversing a list"
   ]
  },
  {
   "cell_type": "code",
   "execution_count": 42,
   "id": "08dd7122",
   "metadata": {},
   "outputs": [
    {
     "data": {
      "text/plain": [
       "['AI', 'ML', 'DS']"
      ]
     },
     "execution_count": 42,
     "metadata": {},
     "output_type": "execute_result"
    }
   ],
   "source": [
    "l = [\"DS\",\"ML\",\"AI\"]\n",
    "l.reverse()\n",
    "l"
   ]
  },
  {
   "cell_type": "code",
   "execution_count": null,
   "id": "6f17dbb6",
   "metadata": {},
   "outputs": [],
   "source": []
  },
  {
   "cell_type": "markdown",
   "id": "20387c42",
   "metadata": {},
   "source": [
    "# Tuple"
   ]
  },
  {
   "cell_type": "code",
   "execution_count": 43,
   "id": "5259aac2",
   "metadata": {},
   "outputs": [
    {
     "name": "stdout",
     "output_type": "stream",
     "text": [
      "('DS', 'ML', 'AI')\n"
     ]
    },
    {
     "data": {
      "text/plain": [
       "tuple"
      ]
     },
     "execution_count": 43,
     "metadata": {},
     "output_type": "execute_result"
    }
   ],
   "source": [
    "t = (\"DS\",\"ML\",\"AI\")\n",
    "print(t)\n",
    "type(t)"
   ]
  },
  {
   "cell_type": "markdown",
   "id": "8e314ec4",
   "metadata": {},
   "source": [
    "### sorting"
   ]
  },
  {
   "cell_type": "markdown",
   "id": "7af545a1",
   "metadata": {},
   "source": [
    "#### tuple uses only sorted() function\n"
   ]
  },
  {
   "cell_type": "code",
   "execution_count": 45,
   "id": "eecf15e9",
   "metadata": {},
   "outputs": [
    {
     "data": {
      "text/plain": [
       "[2, 7, 19, 26, 45]"
      ]
     },
     "execution_count": 45,
     "metadata": {},
     "output_type": "execute_result"
    }
   ],
   "source": [
    "x = [2,19,7,26,45]        \n",
    "sorted(x)"
   ]
  },
  {
   "cell_type": "code",
   "execution_count": 46,
   "id": "c9fe39d9",
   "metadata": {},
   "outputs": [
    {
     "name": "stdout",
     "output_type": "stream",
     "text": [
      "('apple', 'mango', 'kiwi', 'carrot', 'cabbage', 'raddish')\n"
     ]
    }
   ],
   "source": [
    "fruits = (\"apple\", \"mango\",\"kiwi\")\n",
    "vegetables = (\"carrot\", \"cabbage\",\"raddish\")\n",
    "food = fruits + vegetables\n",
    "print(food)"
   ]
  },
  {
   "cell_type": "markdown",
   "id": "c05fffae",
   "metadata": {},
   "source": [
    "### repeating tuple elements"
   ]
  },
  {
   "cell_type": "code",
   "execution_count": 47,
   "id": "c45dfb61",
   "metadata": {},
   "outputs": [
    {
     "name": "stdout",
     "output_type": "stream",
     "text": [
      "('apple', 'mango', 'kiwi', 'apple', 'mango', 'kiwi', 'apple', 'mango', 'kiwi')\n"
     ]
    }
   ],
   "source": [
    "fruits = (\"apple\", \"mango\",\"kiwi\")\n",
    "n = 3\n",
    "repeat = fruits * n\n",
    "print(repeat)"
   ]
  },
  {
   "cell_type": "markdown",
   "id": "37846e0b",
   "metadata": {},
   "source": [
    "### For"
   ]
  },
  {
   "cell_type": "code",
   "execution_count": 49,
   "id": "38d34c4e",
   "metadata": {},
   "outputs": [
    {
     "name": "stdout",
     "output_type": "stream",
     "text": [
      "apple\n",
      "mango\n",
      "kiwi\n"
     ]
    }
   ],
   "source": [
    "fruits = (\"apple\", \"mango\",\"kiwi\")\n",
    "for food in fruits:\n",
    "    print(food)"
   ]
  },
  {
   "cell_type": "markdown",
   "id": "4fa4aef6",
   "metadata": {},
   "source": [
    "### length"
   ]
  },
  {
   "cell_type": "code",
   "execution_count": 48,
   "id": "5e9bf907",
   "metadata": {},
   "outputs": [
    {
     "data": {
      "text/plain": [
       "5"
      ]
     },
     "execution_count": 48,
     "metadata": {},
     "output_type": "execute_result"
    }
   ],
   "source": [
    "a = (2,19,7,26,45)\n",
    "len(a)"
   ]
  },
  {
   "cell_type": "markdown",
   "id": "7a2f6f0b",
   "metadata": {},
   "source": [
    "### max"
   ]
  },
  {
   "cell_type": "code",
   "execution_count": 50,
   "id": "35c895ce",
   "metadata": {},
   "outputs": [
    {
     "data": {
      "text/plain": [
       "45"
      ]
     },
     "execution_count": 50,
     "metadata": {},
     "output_type": "execute_result"
    }
   ],
   "source": [
    "a = (2,19,7,26,45)\n",
    "max(a)"
   ]
  },
  {
   "cell_type": "markdown",
   "id": "d14172b4",
   "metadata": {},
   "source": [
    "### min"
   ]
  },
  {
   "cell_type": "code",
   "execution_count": 51,
   "id": "d3c75223",
   "metadata": {},
   "outputs": [
    {
     "data": {
      "text/plain": [
       "2"
      ]
     },
     "execution_count": 51,
     "metadata": {},
     "output_type": "execute_result"
    }
   ],
   "source": [
    "a = (2,19,7,26,45)\n",
    "min(a)"
   ]
  },
  {
   "cell_type": "markdown",
   "id": "979be444",
   "metadata": {},
   "source": [
    "### deletion operation"
   ]
  },
  {
   "cell_type": "markdown",
   "id": "fcf44b60",
   "metadata": {},
   "source": [
    "#### tuple does not support del()"
   ]
  },
  {
   "cell_type": "code",
   "execution_count": 53,
   "id": "b27e8cb1",
   "metadata": {},
   "outputs": [
    {
     "ename": "TypeError",
     "evalue": "'tuple' object doesn't support item deletion",
     "output_type": "error",
     "traceback": [
      "\u001b[1;31m---------------------------------------------------------------------------\u001b[0m",
      "\u001b[1;31mTypeError\u001b[0m                                 Traceback (most recent call last)",
      "\u001b[1;32m<ipython-input-53-5f30fe16d108>\u001b[0m in \u001b[0;36m<module>\u001b[1;34m\u001b[0m\n\u001b[0;32m      1\u001b[0m \u001b[0mabc\u001b[0m \u001b[1;33m=\u001b[0m \u001b[1;33m(\u001b[0m\u001b[1;36m2\u001b[0m\u001b[1;33m,\u001b[0m\u001b[1;36m19\u001b[0m\u001b[1;33m,\u001b[0m\u001b[1;36m7\u001b[0m\u001b[1;33m,\u001b[0m\u001b[1;36m26\u001b[0m\u001b[1;33m,\u001b[0m\u001b[1;36m45\u001b[0m\u001b[1;33m)\u001b[0m\u001b[1;33m\u001b[0m\u001b[1;33m\u001b[0m\u001b[0m\n\u001b[1;32m----> 2\u001b[1;33m \u001b[1;32mdel\u001b[0m \u001b[0mabc\u001b[0m\u001b[1;33m[\u001b[0m\u001b[1;36m2\u001b[0m\u001b[1;33m]\u001b[0m\u001b[1;33m\u001b[0m\u001b[1;33m\u001b[0m\u001b[0m\n\u001b[0m\u001b[0;32m      3\u001b[0m \u001b[0mabc\u001b[0m\u001b[1;33m\u001b[0m\u001b[1;33m\u001b[0m\u001b[0m\n",
      "\u001b[1;31mTypeError\u001b[0m: 'tuple' object doesn't support item deletion"
     ]
    }
   ],
   "source": [
    "abc = (2,19,7,26,45)\n",
    "del abc[2]\n",
    "abc"
   ]
  },
  {
   "cell_type": "markdown",
   "id": "428000c4",
   "metadata": {},
   "source": [
    "### append"
   ]
  },
  {
   "cell_type": "code",
   "execution_count": 54,
   "id": "077c386b",
   "metadata": {},
   "outputs": [
    {
     "data": {
      "text/plain": [
       "(2, 19, 7, 26, 45, [5, 6, 7, 60])"
      ]
     },
     "execution_count": 54,
     "metadata": {},
     "output_type": "execute_result"
    }
   ],
   "source": [
    "price = (2,19,7,26,45,[5,6,7])\n",
    "price[5].append(60)\n",
    "price"
   ]
  },
  {
   "cell_type": "code",
   "execution_count": null,
   "id": "0bba586e",
   "metadata": {},
   "outputs": [],
   "source": []
  },
  {
   "cell_type": "markdown",
   "id": "f92ec8ad",
   "metadata": {},
   "source": [
    "# Set"
   ]
  },
  {
   "cell_type": "markdown",
   "id": "31657e71",
   "metadata": {},
   "source": [
    "### it doesnot have any duplicates\n",
    "### it can consist of different datatypes (heterogenous)\n",
    "### it is mutable but we cannot retrieve using index"
   ]
  },
  {
   "cell_type": "code",
   "execution_count": null,
   "id": "aca9d7f6",
   "metadata": {},
   "outputs": [],
   "source": []
  },
  {
   "cell_type": "markdown",
   "id": "84fbf03e",
   "metadata": {},
   "source": [
    "# Dictionary"
   ]
  },
  {
   "cell_type": "code",
   "execution_count": 55,
   "id": "bd3fe9fb",
   "metadata": {},
   "outputs": [
    {
     "name": "stdout",
     "output_type": "stream",
     "text": [
      "{'abc': 20, 'xyz': 30, 'mno': 40}\n"
     ]
    },
    {
     "data": {
      "text/plain": [
       "dict"
      ]
     },
     "execution_count": 55,
     "metadata": {},
     "output_type": "execute_result"
    }
   ],
   "source": [
    "books = {\"abc\":20,\n",
    "         \"xyz\":30,\n",
    "         \"mno\":40}\n",
    "print(books)\n",
    "type(books)"
   ]
  },
  {
   "cell_type": "markdown",
   "id": "2a0dc340",
   "metadata": {},
   "source": [
    "### append"
   ]
  },
  {
   "cell_type": "code",
   "execution_count": 56,
   "id": "a143e3dc",
   "metadata": {},
   "outputs": [
    {
     "name": "stdout",
     "output_type": "stream",
     "text": [
      "{'abc': 20, 'xyz': 30, 'mno': 40, 'xxx': 50}\n"
     ]
    }
   ],
   "source": [
    "books = {\"abc\":20,\n",
    "         \"xyz\":30,\n",
    "         \"mno\":40}\n",
    "books[\"xxx\"]=50\n",
    "print(books)"
   ]
  },
  {
   "cell_type": "markdown",
   "id": "9a209e3b",
   "metadata": {},
   "source": [
    "### delete"
   ]
  },
  {
   "cell_type": "code",
   "execution_count": 57,
   "id": "02b03145",
   "metadata": {},
   "outputs": [
    {
     "name": "stdout",
     "output_type": "stream",
     "text": [
      "{'xyz': 30, 'mno': 40}\n"
     ]
    }
   ],
   "source": [
    "books = {\"abc\":20,\n",
    "         \"xyz\":30,\n",
    "         \"mno\":40}\n",
    "del books[\"abc\"]\n",
    "print(books)"
   ]
  },
  {
   "cell_type": "markdown",
   "id": "149958b8",
   "metadata": {},
   "source": [
    "### count"
   ]
  },
  {
   "cell_type": "code",
   "execution_count": 58,
   "id": "d1fc52be",
   "metadata": {},
   "outputs": [
    {
     "name": "stdout",
     "output_type": "stream",
     "text": [
      "{'betty': 1, 'bought': 1, 'some': 1, 'butter': 1, 'the': 1, 'was': 1, 'bitter': 1, 'to': 1, 'make': 1, 'better': 1, 'added': 1, 'more': 1}\n"
     ]
    }
   ],
   "source": [
    "twister = \"betty bought some butter the butter was bitter to make the bitter butter better butter betty added some more better butter to make the bitter butter better butter\"\n",
    "word_count = {}\n",
    "for word in twister.split():\n",
    "    if word not in word_count:\n",
    "        word_count[word] = 1\n",
    "    else:\n",
    "        word_count[word] = +1\n",
    "print(word_count)"
   ]
  },
  {
   "cell_type": "markdown",
   "id": "0c38616b",
   "metadata": {},
   "source": [
    "### default dictionary"
   ]
  },
  {
   "cell_type": "code",
   "execution_count": 59,
   "id": "7f930472",
   "metadata": {},
   "outputs": [],
   "source": [
    "from collections import defaultdict"
   ]
  },
  {
   "cell_type": "code",
   "execution_count": 60,
   "id": "746b81fb",
   "metadata": {},
   "outputs": [
    {
     "name": "stdout",
     "output_type": "stream",
     "text": [
      "defaultdict(<class 'int'>, {'can': 6, 'you': 1, 'a': 3, 'as': 1, 'canner': 1})\n"
     ]
    }
   ],
   "source": [
    "twister = \"can you can a can as a canner can can a can\"\n",
    "word_count = defaultdict(int)\n",
    "for word in twister.split():\n",
    "    word_count[word] += 1\n",
    "print(word_count)"
   ]
  },
  {
   "cell_type": "markdown",
   "id": "e8529660",
   "metadata": {},
   "source": [
    "### looping through the dictionary"
   ]
  },
  {
   "cell_type": "code",
   "execution_count": 61,
   "id": "133214ea",
   "metadata": {},
   "outputs": [
    {
     "name": "stdout",
     "output_type": "stream",
     "text": [
      "can 6\n",
      "you 1\n",
      "a 3\n",
      "as 1\n",
      "canner 1\n"
     ]
    }
   ],
   "source": [
    "twister = \"can you can a can as a canner can can a can\"\n",
    "word_count = defaultdict(int)\n",
    "for word in twister.split():\n",
    "    word_count[word] += 1\n",
    "for key,value in word_count.items():\n",
    "    print(key,value)"
   ]
  },
  {
   "cell_type": "markdown",
   "id": "021a6a70",
   "metadata": {},
   "source": [
    "### length"
   ]
  },
  {
   "cell_type": "code",
   "execution_count": 62,
   "id": "29d73fbd",
   "metadata": {},
   "outputs": [
    {
     "data": {
      "text/plain": [
       "3"
      ]
     },
     "execution_count": 62,
     "metadata": {},
     "output_type": "execute_result"
    }
   ],
   "source": [
    "books = {\"abc\":20,\n",
    "         \"xyz\":30,\n",
    "         \"mno\":40}\n",
    "len(books)"
   ]
  },
  {
   "cell_type": "markdown",
   "id": "fa180b75",
   "metadata": {},
   "source": [
    "### converting dictionary into printable string representation"
   ]
  },
  {
   "cell_type": "code",
   "execution_count": 63,
   "id": "6922363b",
   "metadata": {},
   "outputs": [
    {
     "data": {
      "text/plain": [
       "\"{'abc': 20, 'xyz': 30, 'mno': 40}\""
      ]
     },
     "execution_count": 63,
     "metadata": {},
     "output_type": "execute_result"
    }
   ],
   "source": [
    "str(books)"
   ]
  },
  {
   "cell_type": "markdown",
   "id": "0ca0930a",
   "metadata": {},
   "source": [
    "### clear() deletes all items in the dictionary"
   ]
  },
  {
   "cell_type": "code",
   "execution_count": 64,
   "id": "275e9325",
   "metadata": {},
   "outputs": [
    {
     "data": {
      "text/plain": [
       "{}"
      ]
     },
     "execution_count": 64,
     "metadata": {},
     "output_type": "execute_result"
    }
   ],
   "source": [
    "books = {\"abc\":20,\n",
    "         \"xyz\":30,\n",
    "         \"mno\":40}\n",
    "books.clear()\n",
    "books"
   ]
  },
  {
   "cell_type": "markdown",
   "id": "1fad66d3",
   "metadata": {},
   "source": [
    "### prints keys"
   ]
  },
  {
   "cell_type": "code",
   "execution_count": 65,
   "id": "68c08a70",
   "metadata": {},
   "outputs": [
    {
     "data": {
      "text/plain": [
       "dict_keys([])"
      ]
     },
     "execution_count": 65,
     "metadata": {},
     "output_type": "execute_result"
    }
   ],
   "source": [
    "books.keys()"
   ]
  },
  {
   "cell_type": "markdown",
   "id": "8cb68d07",
   "metadata": {},
   "source": [
    "### prints values"
   ]
  },
  {
   "cell_type": "code",
   "execution_count": 66,
   "id": "0bb96dda",
   "metadata": {},
   "outputs": [
    {
     "data": {
      "text/plain": [
       "dict_values([])"
      ]
     },
     "execution_count": 66,
     "metadata": {},
     "output_type": "execute_result"
    }
   ],
   "source": [
    "books.values()"
   ]
  },
  {
   "cell_type": "code",
   "execution_count": 67,
   "id": "58b69a68",
   "metadata": {},
   "outputs": [
    {
     "data": {
      "text/plain": [
       "{'abc': 20, 'xyz': 30, 'mno': 40}"
      ]
     },
     "execution_count": 67,
     "metadata": {},
     "output_type": "execute_result"
    }
   ],
   "source": [
    "books = {\"abc\":20,\n",
    "         \"xyz\":30,\n",
    "         \"mno\":40}\n",
    "books"
   ]
  },
  {
   "cell_type": "code",
   "execution_count": 68,
   "id": "14ee00e2",
   "metadata": {},
   "outputs": [
    {
     "data": {
      "text/plain": [
       "dict_values([20, 30, 40])"
      ]
     },
     "execution_count": 68,
     "metadata": {},
     "output_type": "execute_result"
    }
   ],
   "source": [
    "books.values()"
   ]
  },
  {
   "cell_type": "code",
   "execution_count": 69,
   "id": "04b3e312",
   "metadata": {},
   "outputs": [
    {
     "data": {
      "text/plain": [
       "dict_keys(['abc', 'xyz', 'mno'])"
      ]
     },
     "execution_count": 69,
     "metadata": {},
     "output_type": "execute_result"
    }
   ],
   "source": [
    "books.keys()"
   ]
  },
  {
   "cell_type": "markdown",
   "id": "87278eba",
   "metadata": {},
   "source": [
    "### prints the items in dict"
   ]
  },
  {
   "cell_type": "code",
   "execution_count": 70,
   "id": "575f2da1",
   "metadata": {},
   "outputs": [
    {
     "data": {
      "text/plain": [
       "dict_items([('abc', 20), ('xyz', 30), ('mno', 40)])"
      ]
     },
     "execution_count": 70,
     "metadata": {},
     "output_type": "execute_result"
    }
   ],
   "source": [
    "books = {\"abc\":20,\n",
    "         \"xyz\":30,\n",
    "         \"mno\":40}\n",
    "books.items()"
   ]
  },
  {
   "cell_type": "code",
   "execution_count": 71,
   "id": "c881a50a",
   "metadata": {},
   "outputs": [
    {
     "name": "stdout",
     "output_type": "stream",
     "text": [
      "{'juice': 15, 'pizza': 5, 'burger': 7, 'icecream': 9}\n"
     ]
    }
   ],
   "source": [
    "items_purchased = {'juice':10,'juice':15, 'pizza':5, 'burger':7, 'icecream':9}\n",
    "print(items_purchased)"
   ]
  },
  {
   "cell_type": "markdown",
   "id": "61eb4767",
   "metadata": {},
   "source": [
    "### zip() to create a dictionary from a list"
   ]
  },
  {
   "cell_type": "code",
   "execution_count": 72,
   "id": "6c152a1d",
   "metadata": {},
   "outputs": [],
   "source": [
    "item_names = {'juice', 'pizza', 'burger', 'icecream'}\n",
    "item_price = {50,150,100,140}"
   ]
  },
  {
   "cell_type": "code",
   "execution_count": 73,
   "id": "e0d96512",
   "metadata": {},
   "outputs": [
    {
     "name": "stdout",
     "output_type": "stream",
     "text": [
      "{'juice': 140, 'pizza': 50, 'burger': 100, 'icecream': 150}\n"
     ]
    }
   ],
   "source": [
    "dictionary = dict(zip(item_names,item_price))\n",
    "print(dictionary)"
   ]
  },
  {
   "cell_type": "code",
   "execution_count": null,
   "id": "1539a285",
   "metadata": {},
   "outputs": [],
   "source": []
  },
  {
   "cell_type": "markdown",
   "id": "d59b77d4",
   "metadata": {},
   "source": [
    "# List Comprehension"
   ]
  },
  {
   "cell_type": "markdown",
   "id": "fcbf7024",
   "metadata": {},
   "source": [
    "### creating a list using for"
   ]
  },
  {
   "cell_type": "code",
   "execution_count": 74,
   "id": "b5c1e6fa",
   "metadata": {},
   "outputs": [
    {
     "name": "stdout",
     "output_type": "stream",
     "text": [
      "[1, 4, 9, 16, 25, 36, 49, 64, 81, 100]\n"
     ]
    }
   ],
   "source": [
    "num = []\n",
    "for i in range(1,11):\n",
    "    num.append(i*i)\n",
    "print(num)"
   ]
  },
  {
   "cell_type": "markdown",
   "id": "276dc5ab",
   "metadata": {},
   "source": [
    "### creating a list using list comprehension"
   ]
  },
  {
   "cell_type": "code",
   "execution_count": 75,
   "id": "d226622f",
   "metadata": {},
   "outputs": [
    {
     "name": "stdout",
     "output_type": "stream",
     "text": [
      "[1, 4, 9, 16, 25, 36, 49, 64, 81, 100]\n"
     ]
    }
   ],
   "source": [
    "num = [i*i for i in range(1,11)]\n",
    "print(num)"
   ]
  },
  {
   "cell_type": "markdown",
   "id": "018d4e3a",
   "metadata": {},
   "source": [
    "### example :"
   ]
  },
  {
   "cell_type": "code",
   "execution_count": 76,
   "id": "9af52170",
   "metadata": {},
   "outputs": [
    {
     "data": {
      "text/plain": [
       "['a', 'a', 'e', 'a', 'a', 'e', 'e', 'e', 'o', 'o', 'a', 'a']"
      ]
     },
     "execution_count": 76,
     "metadata": {},
     "output_type": "execute_result"
    }
   ],
   "source": [
    "sentence = (\"an apple a day keeps the doctor away\")\n",
    "vowels = [vowel for vowel in sentence if vowel in 'aeiouAEIOU']\n",
    "vowels"
   ]
  },
  {
   "cell_type": "code",
   "execution_count": null,
   "id": "80493dad",
   "metadata": {},
   "outputs": [],
   "source": []
  }
 ],
 "metadata": {
  "kernelspec": {
   "display_name": "Python 3",
   "language": "python",
   "name": "python3"
  },
  "language_info": {
   "codemirror_mode": {
    "name": "ipython",
    "version": 3
   },
   "file_extension": ".py",
   "mimetype": "text/x-python",
   "name": "python",
   "nbconvert_exporter": "python",
   "pygments_lexer": "ipython3",
   "version": "3.8.8"
  }
 },
 "nbformat": 4,
 "nbformat_minor": 5
}
