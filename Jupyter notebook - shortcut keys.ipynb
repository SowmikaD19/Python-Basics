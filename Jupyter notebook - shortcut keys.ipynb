{
 "cells": [
  {
   "cell_type": "markdown",
   "id": "7749b2a1",
   "metadata": {},
   "source": [
    "### Shift + Enter -- run the current cell\n",
    "### Ctrl + Enter -- run selected cells\n",
    "### Alt + Enter -- run the current cell\n",
    "### Ctrl + S -- save and checkpoint\n",
    "### A -- insert cell above\n",
    "### B -- insert cell below\n",
    "### X -- cut selected cells\n",
    "### C -- copy selected cells\n",
    "### V -- paste cells below\n",
    "### D, D (press the key twice) -- delete selected cells\n",
    "### Z -- undo cell deletion\n",
    "### M -- to change the current cell to Markdown\n",
    "### Y -- to change it back to code\n",
    "### Shift + Tab will show you the Docstring (documentation)\n",
    "### Esc + F -- Find and replace on your code but not the outputs.\n",
    "### Esc + O -- Toggle cell output."
   ]
  },
  {
   "cell_type": "code",
   "execution_count": null,
   "id": "e920eb47",
   "metadata": {},
   "outputs": [],
   "source": []
  }
 ],
 "metadata": {
  "kernelspec": {
   "display_name": "Python 3",
   "language": "python",
   "name": "python3"
  },
  "language_info": {
   "codemirror_mode": {
    "name": "ipython",
    "version": 3
   },
   "file_extension": ".py",
   "mimetype": "text/x-python",
   "name": "python",
   "nbconvert_exporter": "python",
   "pygments_lexer": "ipython3",
   "version": "3.8.8"
  }
 },
 "nbformat": 4,
 "nbformat_minor": 5
}
