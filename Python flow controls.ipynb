{
 "cells": [
  {
   "cell_type": "markdown",
   "id": "976d43fa",
   "metadata": {},
   "source": [
    "## Conditional statement"
   ]
  },
  {
   "cell_type": "markdown",
   "id": "59e59eab",
   "metadata": {},
   "source": [
    "### if"
   ]
  },
  {
   "cell_type": "code",
   "execution_count": 1,
   "id": "2db938ca",
   "metadata": {},
   "outputs": [
    {
     "name": "stdout",
     "output_type": "stream",
     "text": [
      "Postive!\n",
      "this is always printed\n"
     ]
    }
   ],
   "source": [
    "num = 7\n",
    "if (num > 0):\n",
    "    print(\"Postive!\")\n",
    "print(\"this is always printed\")"
   ]
  },
  {
   "cell_type": "code",
   "execution_count": 2,
   "id": "7d2c8fb9",
   "metadata": {},
   "outputs": [
    {
     "name": "stdout",
     "output_type": "stream",
     "text": [
      "this is always printed\n"
     ]
    }
   ],
   "source": [
    "num = -7\n",
    "if (num > 0):\n",
    "    print(\"Postive!\")\n",
    "print(\"this is always printed\")"
   ]
  },
  {
   "cell_type": "markdown",
   "id": "b6734eeb",
   "metadata": {},
   "source": [
    "### if else"
   ]
  },
  {
   "cell_type": "code",
   "execution_count": 3,
   "id": "14c42bb7",
   "metadata": {},
   "outputs": [
    {
     "name": "stdout",
     "output_type": "stream",
     "text": [
      "Negative!\n",
      "this is always printed\n"
     ]
    }
   ],
   "source": [
    "num = -7\n",
    "if (num > 0):\n",
    "    print(\"Postive!\")\n",
    "else:\n",
    "    print(\"Negative!\")\n",
    "print(\"this is always printed\")"
   ]
  },
  {
   "cell_type": "markdown",
   "id": "0a34195d",
   "metadata": {},
   "source": [
    "### if elif else"
   ]
  },
  {
   "cell_type": "code",
   "execution_count": 4,
   "id": "bbbaf347",
   "metadata": {},
   "outputs": [
    {
     "name": "stdout",
     "output_type": "stream",
     "text": [
      "Enter age: 18\n",
      "Eligible to vote!\n"
     ]
    }
   ],
   "source": [
    "age = int(input(\"Enter age: \"))\n",
    "if (age < 0):\n",
    "    print(\"invalid\")\n",
    "elif (age <= 17):\n",
    "    print(\"Not eligible to vote\")\n",
    "else:\n",
    "    print(\"Eligible to vote!\")"
   ]
  },
  {
   "cell_type": "markdown",
   "id": "e972a977",
   "metadata": {},
   "source": [
    "### nested if"
   ]
  },
  {
   "cell_type": "code",
   "execution_count": 6,
   "id": "8a6e3882",
   "metadata": {},
   "outputs": [
    {
     "name": "stdout",
     "output_type": "stream",
     "text": [
      "Enter A: 2\n",
      "Enter B: 7\n",
      "Enter C: 26\n",
      "26 is greater\n"
     ]
    }
   ],
   "source": [
    "a = int(input(\"Enter A: \"))\n",
    "b = int(input(\"Enter B: \"))\n",
    "c = int(input(\"Enter C: \"))\n",
    "if(a>b):\n",
    "    print(a, \"is greater\")\n",
    "else:\n",
    "    if(b>c):\n",
    "        print(b, \"is greater\")\n",
    "    else:\n",
    "        print(c, \"is greater\")"
   ]
  },
  {
   "cell_type": "markdown",
   "id": "97db38a2",
   "metadata": {},
   "source": [
    "## Loops"
   ]
  },
  {
   "cell_type": "markdown",
   "id": "c6bd700a",
   "metadata": {},
   "source": [
    "### while loop"
   ]
  },
  {
   "cell_type": "code",
   "execution_count": 8,
   "id": "7bb895f0",
   "metadata": {},
   "outputs": [
    {
     "name": "stdout",
     "output_type": "stream",
     "text": [
      "1\n",
      "2\n",
      "3\n",
      "4\n",
      "5\n",
      "6\n",
      "7\n",
      "sum is  28\n"
     ]
    }
   ],
   "source": [
    "n=7\n",
    "sum=0\n",
    "i=1\n",
    "\n",
    "while(i<=n):\n",
    "    print(i)\n",
    "    sum=sum+i\n",
    "    i=i+1\n",
    "print(\"sum is \",sum)"
   ]
  },
  {
   "cell_type": "markdown",
   "id": "b69385bb",
   "metadata": {},
   "source": [
    "### for"
   ]
  },
  {
   "cell_type": "markdown",
   "id": "1a3f7614",
   "metadata": {},
   "source": [
    "#### addition of first n odd numbers"
   ]
  },
  {
   "cell_type": "code",
   "execution_count": 11,
   "id": "f6e634ad",
   "metadata": {},
   "outputs": [
    {
     "name": "stdout",
     "output_type": "stream",
     "text": [
      "Print sum of odd numbers till : 45\n",
      "\n",
      "Sum of odd numbers from 1 to 45 is : 529\n"
     ]
    }
   ],
   "source": [
    "num = int(input(\"Print sum of odd numbers till : \"))\n",
    "sum = 0;\n",
    "\n",
    "for i in range(1, num + 1):\n",
    "\n",
    "    if((i % 2) != 0):\n",
    "        sum += i;\n",
    "\n",
    "print(\"\\nSum of odd numbers from 1 to\", num, \"is :\", sum)"
   ]
  },
  {
   "cell_type": "markdown",
   "id": "b6f47d32",
   "metadata": {},
   "source": [
    "### break"
   ]
  },
  {
   "cell_type": "code",
   "execution_count": 12,
   "id": "65886041",
   "metadata": {},
   "outputs": [
    {
     "name": "stdout",
     "output_type": "stream",
     "text": [
      "s\n",
      "o\n",
      "w\n",
      "the for loop stopped executing\n"
     ]
    }
   ],
   "source": [
    "text = \"sowmika\"\n",
    "for letter in text:\n",
    "    if letter == 'm':\n",
    "        break\n",
    "    print(letter)\n",
    "print(\"the for loop stopped executing\")"
   ]
  },
  {
   "cell_type": "markdown",
   "id": "fa3144cd",
   "metadata": {},
   "source": [
    "### continue"
   ]
  },
  {
   "cell_type": "code",
   "execution_count": 13,
   "id": "a926de33",
   "metadata": {},
   "outputs": [
    {
     "name": "stdout",
     "output_type": "stream",
     "text": [
      "k\n",
      "n\n",
      "o\n",
      "w\n",
      "l\n",
      "e\n",
      "d\n",
      "g\n",
      "e\n",
      " \n",
      "h\n",
      "u\n",
      "t\n"
     ]
    }
   ],
   "source": [
    "text = \"knowledge hut\"\n",
    "for letter in text:\n",
    "    if letter == '':\n",
    "        print(\"the loop skipped a space here\")\n",
    "        continue\n",
    "    print(letter)"
   ]
  },
  {
   "cell_type": "markdown",
   "id": "f45d5603",
   "metadata": {},
   "source": [
    "### nested for loop"
   ]
  },
  {
   "cell_type": "code",
   "execution_count": 14,
   "id": "332d711b",
   "metadata": {},
   "outputs": [
    {
     "name": "stdout",
     "output_type": "stream",
     "text": [
      "enter number of levels: 7\n",
      "1 \n",
      "\n",
      "2 2 \n",
      "\n",
      "3 3 3 \n",
      "\n",
      "4 4 4 4 \n",
      "\n",
      "5 5 5 5 5 \n",
      "\n",
      "6 6 6 6 6 6 \n",
      "\n",
      "7 7 7 7 7 7 7 \n",
      "\n"
     ]
    }
   ],
   "source": [
    "levels = int(input(\"enter number of levels: \"))\n",
    "for levels in range(1,levels+1):\n",
    "    for num in range(levels):\n",
    "        print(levels, end=\" \")\n",
    "    print(\"\\n\")"
   ]
  },
  {
   "cell_type": "code",
   "execution_count": null,
   "id": "f644cb5e",
   "metadata": {},
   "outputs": [],
   "source": []
  }
 ],
 "metadata": {
  "kernelspec": {
   "display_name": "Python 3",
   "language": "python",
   "name": "python3"
  },
  "language_info": {
   "codemirror_mode": {
    "name": "ipython",
    "version": 3
   },
   "file_extension": ".py",
   "mimetype": "text/x-python",
   "name": "python",
   "nbconvert_exporter": "python",
   "pygments_lexer": "ipython3",
   "version": "3.8.8"
  }
 },
 "nbformat": 4,
 "nbformat_minor": 5
}
