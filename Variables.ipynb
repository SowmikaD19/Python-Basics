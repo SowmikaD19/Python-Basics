{
 "cells": [
  {
   "cell_type": "markdown",
   "id": "df2ec875",
   "metadata": {},
   "source": [
    "#### ' = ' is used to assign value to variable"
   ]
  },
  {
   "cell_type": "code",
   "execution_count": 1,
   "id": "6f21bc4a",
   "metadata": {},
   "outputs": [
    {
     "name": "stdout",
     "output_type": "stream",
     "text": [
      "Sow\n",
      "19\n",
      "1926\n"
     ]
    }
   ],
   "source": [
    "name = \"Sow\"\n",
    "age = 19\n",
    "ID = 1926\n",
    "\n",
    "print(name)\n",
    "print(age)\n",
    "print(ID)"
   ]
  },
  {
   "cell_type": "markdown",
   "id": "5ffe4522",
   "metadata": {},
   "source": [
    "#### Reassigning variables"
   ]
  },
  {
   "cell_type": "code",
   "execution_count": 2,
   "id": "5881e1b4",
   "metadata": {},
   "outputs": [
    {
     "name": "stdout",
     "output_type": "stream",
     "text": [
      "Sharo\n"
     ]
    }
   ],
   "source": [
    "name = 'Sow'\n",
    "name = 'Sharo'\n",
    "\n",
    "print(name)"
   ]
  },
  {
   "cell_type": "code",
   "execution_count": 3,
   "id": "b58d1f19",
   "metadata": {},
   "outputs": [
    {
     "name": "stdout",
     "output_type": "stream",
     "text": [
      "Sharo\n"
     ]
    }
   ],
   "source": [
    "friend_name = name\n",
    "print(friend_name)"
   ]
  },
  {
   "cell_type": "markdown",
   "id": "2ca8df6d",
   "metadata": {},
   "source": [
    "#### Multiple variable assignment"
   ]
  },
  {
   "cell_type": "markdown",
   "id": "4065da94",
   "metadata": {},
   "source": [
    "##### with same values"
   ]
  },
  {
   "cell_type": "code",
   "execution_count": 4,
   "id": "70a084b9",
   "metadata": {},
   "outputs": [
    {
     "name": "stdout",
     "output_type": "stream",
     "text": [
      "Sam's age:  25\n",
      "Harry's age:  25\n",
      "Roger's age:  25\n"
     ]
    }
   ],
   "source": [
    "sam_age = harry_age = roger_age = 25\n",
    "print(\"Sam's age: \",sam_age)\n",
    "print(\"Harry's age: \",harry_age)\n",
    "print(\"Roger's age: \",roger_age)"
   ]
  },
  {
   "cell_type": "markdown",
   "id": "6f24fdc0",
   "metadata": {},
   "source": [
    "##### with different values"
   ]
  },
  {
   "cell_type": "code",
   "execution_count": 5,
   "id": "a4a6f139",
   "metadata": {},
   "outputs": [
    {
     "name": "stdout",
     "output_type": "stream",
     "text": [
      "Sam's age:  25\n",
      "Harry's age:  20\n",
      "Roger's age:  23\n"
     ]
    }
   ],
   "source": [
    "sam_age , harry_age , roger_age = 25 ,20, 23\n",
    "print(\"Sam's age: \",sam_age)\n",
    "print(\"Harry's age: \",harry_age)\n",
    "print(\"Roger's age: \",roger_age)"
   ]
  },
  {
   "cell_type": "code",
   "execution_count": null,
   "id": "e46127f7",
   "metadata": {},
   "outputs": [],
   "source": []
  }
 ],
 "metadata": {
  "kernelspec": {
   "display_name": "Python 3",
   "language": "python",
   "name": "python3"
  },
  "language_info": {
   "codemirror_mode": {
    "name": "ipython",
    "version": 3
   },
   "file_extension": ".py",
   "mimetype": "text/x-python",
   "name": "python",
   "nbconvert_exporter": "python",
   "pygments_lexer": "ipython3",
   "version": "3.8.8"
  }
 },
 "nbformat": 4,
 "nbformat_minor": 5
}
