{
 "cells": [
  {
   "cell_type": "markdown",
   "id": "d3fe553d",
   "metadata": {},
   "source": [
    "## Types:\n",
    "### 1. Built-in func\n",
    "### 2. User-defined func\n",
    "### 3. Lambda func"
   ]
  },
  {
   "cell_type": "code",
   "execution_count": null,
   "id": "e13e748e",
   "metadata": {},
   "outputs": [],
   "source": []
  },
  {
   "cell_type": "markdown",
   "id": "ac75bc6a",
   "metadata": {},
   "source": [
    "# Built-in functions"
   ]
  },
  {
   "cell_type": "code",
   "execution_count": 1,
   "id": "85df1543",
   "metadata": {},
   "outputs": [
    {
     "name": "stdout",
     "output_type": "stream",
     "text": [
      "Hello world!\n"
     ]
    }
   ],
   "source": [
    "print(\"Hello world!\")"
   ]
  },
  {
   "cell_type": "code",
   "execution_count": 6,
   "id": "88df8f62",
   "metadata": {
    "scrolled": true
   },
   "outputs": [
    {
     "ename": "SyntaxError",
     "evalue": "EOL while scanning string literal (<ipython-input-6-b2d86ef109f0>, line 1)",
     "output_type": "error",
     "traceback": [
      "\u001b[1;36m  File \u001b[1;32m\"<ipython-input-6-b2d86ef109f0>\"\u001b[1;36m, line \u001b[1;32m1\u001b[0m\n\u001b[1;33m    print(\"Python is fun')\u001b[0m\n\u001b[1;37m                          ^\u001b[0m\n\u001b[1;31mSyntaxError\u001b[0m\u001b[1;31m:\u001b[0m EOL while scanning string literal\n"
     ]
    }
   ],
   "source": [
    "print(\"Python is fun')"
   ]
  },
  {
   "cell_type": "markdown",
   "id": "2efb2553",
   "metadata": {},
   "source": [
    "#### double quotes or single quotes only "
   ]
  },
  {
   "cell_type": "code",
   "execution_count": 2,
   "id": "d5200bdc",
   "metadata": {},
   "outputs": [
    {
     "name": "stdout",
     "output_type": "stream",
     "text": [
      "Hello Sow\n"
     ]
    }
   ],
   "source": [
    "print(\"Hello\",\"Sow\")"
   ]
  },
  {
   "cell_type": "code",
   "execution_count": 3,
   "id": "d50d5709",
   "metadata": {},
   "outputs": [
    {
     "name": "stdout",
     "output_type": "stream",
     "text": [
      "('a', 'e', 'i', 'o', 'u')\n"
     ]
    }
   ],
   "source": [
    "vowels = ('a','e','i','o','u')\n",
    "print(vowels)"
   ]
  },
  {
   "cell_type": "code",
   "execution_count": 4,
   "id": "cc0a2103",
   "metadata": {},
   "outputs": [
    {
     "name": "stdout",
     "output_type": "stream",
     "text": [
      "hello,Sow\n"
     ]
    }
   ],
   "source": [
    "print(\"hello\",\"Sow\", sep=',')"
   ]
  },
  {
   "cell_type": "markdown",
   "id": "8b7dd68d",
   "metadata": {},
   "source": [
    "#### sep is an optional parameter , and each word is separated by comma"
   ]
  },
  {
   "cell_type": "code",
   "execution_count": 5,
   "id": "ef9feb88",
   "metadata": {},
   "outputs": [
    {
     "name": "stdout",
     "output_type": "stream",
     "text": [
      "There is a white space below this line\n",
      "\n",
      "\n",
      "There is a white space above this line\n"
     ]
    }
   ],
   "source": [
    "print(\"There is a white space below this line\")\n",
    "print('\\n')\n",
    "print(\"There is a white space above this line\")"
   ]
  },
  {
   "cell_type": "code",
   "execution_count": 13,
   "id": "ec0735e8",
   "metadata": {},
   "outputs": [
    {
     "name": "stdout",
     "output_type": "stream",
     "text": [
      "There is a white space below this line\n",
      "\t\n",
      "There is a white space above this line\n"
     ]
    }
   ],
   "source": [
    "print(\"There is a white space below this line\")\n",
    "print(\"\\t\")\n",
    "print(\"There is a white space above this line\")"
   ]
  },
  {
   "cell_type": "markdown",
   "id": "f856c54f",
   "metadata": {},
   "source": [
    "### Concatenation"
   ]
  },
  {
   "cell_type": "code",
   "execution_count": 7,
   "id": "24701498",
   "metadata": {},
   "outputs": [
    {
     "name": "stdout",
     "output_type": "stream",
     "text": [
      "Pythonis fun\n"
     ]
    }
   ],
   "source": [
    "print(\"Python\"+\"is fun\")"
   ]
  },
  {
   "cell_type": "code",
   "execution_count": 8,
   "id": "ddccb235",
   "metadata": {},
   "outputs": [
    {
     "name": "stdout",
     "output_type": "stream",
     "text": [
      "Python is fun\n"
     ]
    }
   ],
   "source": [
    "print(\"Python\"+\" is fun\")"
   ]
  },
  {
   "cell_type": "code",
   "execution_count": 9,
   "id": "f7823c10",
   "metadata": {},
   "outputs": [
    {
     "ename": "TypeError",
     "evalue": "can only concatenate str (not \"int\") to str",
     "output_type": "error",
     "traceback": [
      "\u001b[1;31m---------------------------------------------------------------------------\u001b[0m",
      "\u001b[1;31mTypeError\u001b[0m                                 Traceback (most recent call last)",
      "\u001b[1;32m<ipython-input-9-10f98744d601>\u001b[0m in \u001b[0;36m<module>\u001b[1;34m\u001b[0m\n\u001b[1;32m----> 1\u001b[1;33m \u001b[0mprint\u001b[0m\u001b[1;33m(\u001b[0m\u001b[1;34m\"My reg no. is\"\u001b[0m \u001b[1;33m+\u001b[0m \u001b[1;36m1926\u001b[0m\u001b[1;33m)\u001b[0m\u001b[1;33m\u001b[0m\u001b[1;33m\u001b[0m\u001b[0m\n\u001b[0m",
      "\u001b[1;31mTypeError\u001b[0m: can only concatenate str (not \"int\") to str"
     ]
    }
   ],
   "source": [
    "print(\"My reg no. is\" + 1926)"
   ]
  },
  {
   "cell_type": "code",
   "execution_count": 10,
   "id": "0dbdba03",
   "metadata": {},
   "outputs": [],
   "source": [
    "# explicit conversion takes place here too"
   ]
  },
  {
   "cell_type": "markdown",
   "id": "ee78fc34",
   "metadata": {},
   "source": [
    "### Concatenation with type casting"
   ]
  },
  {
   "cell_type": "code",
   "execution_count": 14,
   "id": "c531337e",
   "metadata": {},
   "outputs": [
    {
     "name": "stdout",
     "output_type": "stream",
     "text": [
      "My reg no. is 1926\n"
     ]
    }
   ],
   "source": [
    "print(\"My reg no. is \" + str(1926))"
   ]
  },
  {
   "cell_type": "code",
   "execution_count": null,
   "id": "31d81907",
   "metadata": {},
   "outputs": [],
   "source": []
  },
  {
   "cell_type": "markdown",
   "id": "1b11b2f7",
   "metadata": {},
   "source": [
    "# User defined functions"
   ]
  },
  {
   "cell_type": "markdown",
   "id": "518920b3",
   "metadata": {},
   "source": [
    "### A func that a user defines is User defined functions\n",
    "### Any predefined python keyword cannot be used as a function name"
   ]
  },
  {
   "cell_type": "code",
   "execution_count": 1,
   "id": "b1ec3fab",
   "metadata": {},
   "outputs": [
    {
     "name": "stdout",
     "output_type": "stream",
     "text": [
      "Base: 7\n",
      "Height: 8\n",
      "28.0\n"
     ]
    }
   ],
   "source": [
    "def area_of_triangle(b,h):\n",
    "    return(0.5*b*h)\n",
    "b=int(input(\"Base: \"))\n",
    "h=int(input(\"Height: \"))\n",
    "print(area_of_triangle(b,h))"
   ]
  },
  {
   "cell_type": "code",
   "execution_count": 5,
   "id": "299f9a44",
   "metadata": {},
   "outputs": [
    {
     "name": "stdout",
     "output_type": "stream",
     "text": [
      "Enter name: Sowmika\n",
      "Hello Sowmika\n"
     ]
    }
   ],
   "source": [
    "def greet(name): \n",
    "    return(\"Hello \"+name) \n",
    "name=input(\"Enter name: \") \n",
    "print(greet(name))"
   ]
  },
  {
   "cell_type": "markdown",
   "id": "975d9c7f",
   "metadata": {},
   "source": [
    "#### func will throw an error if we do not pass the required parameter as func definition"
   ]
  },
  {
   "cell_type": "code",
   "execution_count": 6,
   "id": "aeed3cd1",
   "metadata": {},
   "outputs": [
    {
     "name": "stdout",
     "output_type": "stream",
     "text": [
      "Enter name: Sowmika\n"
     ]
    },
    {
     "ename": "TypeError",
     "evalue": "greet() missing 1 required positional argument: 'name'",
     "output_type": "error",
     "traceback": [
      "\u001b[1;31m---------------------------------------------------------------------------\u001b[0m",
      "\u001b[1;31mTypeError\u001b[0m                                 Traceback (most recent call last)",
      "\u001b[1;32m<ipython-input-6-6ded19ec132e>\u001b[0m in \u001b[0;36m<module>\u001b[1;34m\u001b[0m\n\u001b[0;32m      1\u001b[0m \u001b[0mname\u001b[0m \u001b[1;33m=\u001b[0m \u001b[0minput\u001b[0m\u001b[1;33m(\u001b[0m\u001b[1;34m\"Enter name: \"\u001b[0m\u001b[1;33m)\u001b[0m\u001b[1;33m\u001b[0m\u001b[1;33m\u001b[0m\u001b[0m\n\u001b[1;32m----> 2\u001b[1;33m \u001b[0mgreet\u001b[0m\u001b[1;33m(\u001b[0m\u001b[1;33m)\u001b[0m\u001b[1;33m\u001b[0m\u001b[1;33m\u001b[0m\u001b[0m\n\u001b[0m",
      "\u001b[1;31mTypeError\u001b[0m: greet() missing 1 required positional argument: 'name'"
     ]
    }
   ],
   "source": [
    "name = input(\"Enter name: \")\n",
    "greet()"
   ]
  },
  {
   "cell_type": "code",
   "execution_count": 7,
   "id": "b1bd152d",
   "metadata": {},
   "outputs": [
    {
     "name": "stdout",
     "output_type": "stream",
     "text": [
      "45\n"
     ]
    }
   ],
   "source": [
    "def addition(num1,num2):\n",
    "    add = num1 + num2\n",
    "    return(add)\n",
    "summation = addition(19,26)\n",
    "print(summation)"
   ]
  },
  {
   "cell_type": "markdown",
   "id": "7404ca1d",
   "metadata": {},
   "source": [
    "#### func retuns no value if we use return keyword without any return value"
   ]
  },
  {
   "cell_type": "code",
   "execution_count": 9,
   "id": "53352dec",
   "metadata": {},
   "outputs": [
    {
     "name": "stdout",
     "output_type": "stream",
     "text": [
      "None\n"
     ]
    }
   ],
   "source": [
    "def addition(num1,num2):\n",
    "    add = num1 + num2\n",
    "    return\n",
    "summation = addition(19,26)\n",
    "print(summation)"
   ]
  },
  {
   "cell_type": "code",
   "execution_count": null,
   "id": "2a27d80c",
   "metadata": {},
   "outputs": [],
   "source": []
  },
  {
   "cell_type": "markdown",
   "id": "d195ab2c",
   "metadata": {},
   "source": [
    "# Function arguments"
   ]
  },
  {
   "cell_type": "markdown",
   "id": "0a1ddde4",
   "metadata": {},
   "source": [
    "## Required argument"
   ]
  },
  {
   "cell_type": "markdown",
   "id": "aba9c36a",
   "metadata": {},
   "source": [
    "### they are arguments passed to a func in correct positional order"
   ]
  },
  {
   "cell_type": "code",
   "execution_count": 10,
   "id": "1bd7339f",
   "metadata": {},
   "outputs": [
    {
     "name": "stdout",
     "output_type": "stream",
     "text": [
      "First arg:  26\n",
      "Second arg:  7\n"
     ]
    }
   ],
   "source": [
    "def reg_arg(num1, num2):\n",
    "    print(\"First arg: \",num1)\n",
    "    print(\"Second arg: \",num2)\n",
    "num1 = 7\n",
    "num2 = 26\n",
    "reg_arg(num2, num1)"
   ]
  },
  {
   "cell_type": "markdown",
   "id": "1b73c69c",
   "metadata": {},
   "source": [
    "## Keyword argument"
   ]
  },
  {
   "cell_type": "code",
   "execution_count": 12,
   "id": "f7377404",
   "metadata": {},
   "outputs": [
    {
     "name": "stdout",
     "output_type": "stream",
     "text": [
      "Sow 1926\n"
     ]
    }
   ],
   "source": [
    "def emp(name,ID):\n",
    "    print(name,ID)\n",
    "emp(name=\"Sow\",ID=1926)"
   ]
  },
  {
   "cell_type": "markdown",
   "id": "854b47b0",
   "metadata": {},
   "source": [
    "## Default argument"
   ]
  },
  {
   "cell_type": "code",
   "execution_count": 14,
   "id": "3bf65fbf",
   "metadata": {},
   "outputs": [
    {
     "name": "stdout",
     "output_type": "stream",
     "text": [
      "Employee name:  Sow\n",
      "Employee ID:  1926\n"
     ]
    }
   ],
   "source": [
    "def emp(name,ID=1926):\n",
    "    print(\"Employee name: \",name)\n",
    "    print(\"Employee ID: \",ID)\n",
    "emp(\"Sow\")"
   ]
  },
  {
   "cell_type": "markdown",
   "id": "52c10ebe",
   "metadata": {},
   "source": [
    "## Variable length argument"
   ]
  },
  {
   "cell_type": "code",
   "execution_count": 16,
   "id": "1f7ad443",
   "metadata": {},
   "outputs": [
    {
     "name": "stdout",
     "output_type": "stream",
     "text": [
      "52\n"
     ]
    }
   ],
   "source": [
    "def addition(*num):\n",
    "    add = 0\n",
    "    for i in num:\n",
    "        add = add + i\n",
    "    print(add)\n",
    "addition(7,19,26)"
   ]
  },
  {
   "cell_type": "markdown",
   "id": "1e7d543c",
   "metadata": {},
   "source": [
    "### Variable length keyworded argument"
   ]
  },
  {
   "cell_type": "code",
   "execution_count": 17,
   "id": "e353bd75",
   "metadata": {},
   "outputs": [
    {
     "name": "stdout",
     "output_type": "stream",
     "text": [
      "<class 'dict'>\n",
      "name --> Harry\n",
      "salary --> 200000\n"
     ]
    }
   ],
   "source": [
    "def emp(**details):\n",
    "    print(type(details))\n",
    "    for k,v in details.items():\n",
    "        print(k,\"-->\",v)\n",
    "emp(name=\"Harry\",salary=200000)"
   ]
  },
  {
   "cell_type": "code",
   "execution_count": null,
   "id": "1cadfe98",
   "metadata": {},
   "outputs": [],
   "source": []
  },
  {
   "cell_type": "markdown",
   "id": "72a2f4c3",
   "metadata": {},
   "source": [
    "# Lambda functions"
   ]
  },
  {
   "cell_type": "markdown",
   "id": "fae923ff",
   "metadata": {},
   "source": [
    "### They are anonymous and do not have any keyword\n",
    "### 'lambda' is used to create lambda functions\n",
    "### No 'def' or 'return' keyword is used in lambda function"
   ]
  },
  {
   "cell_type": "markdown",
   "id": "af12c240",
   "metadata": {},
   "source": [
    "# lambda arguments : expression"
   ]
  },
  {
   "cell_type": "code",
   "execution_count": 19,
   "id": "a5b21ba0",
   "metadata": {},
   "outputs": [
    {
     "data": {
      "text/plain": [
       "26"
      ]
     },
     "execution_count": 19,
     "metadata": {},
     "output_type": "execute_result"
    }
   ],
   "source": [
    "greater = lambda a,b: a if(a>b) else b\n",
    "greater(19,26)"
   ]
  },
  {
   "cell_type": "markdown",
   "id": "1e4d4ca8",
   "metadata": {},
   "source": [
    "## map() function"
   ]
  },
  {
   "cell_type": "code",
   "execution_count": 20,
   "id": "e2577804",
   "metadata": {},
   "outputs": [
    {
     "data": {
      "text/plain": [
       "[1, 4, 9, 16, 25, 36, 49, 64, 81]"
      ]
     },
     "execution_count": 20,
     "metadata": {},
     "output_type": "execute_result"
    }
   ],
   "source": [
    "num = list(range(1,10))\n",
    "square = list(map(lambda x:x**2,num))\n",
    "square"
   ]
  },
  {
   "cell_type": "markdown",
   "id": "5a3bf489",
   "metadata": {},
   "source": [
    "## filter()"
   ]
  },
  {
   "cell_type": "markdown",
   "id": "098279f0",
   "metadata": {},
   "source": [
    "### unlike map() , filter() can have only one iterable as input"
   ]
  },
  {
   "cell_type": "code",
   "execution_count": 21,
   "id": "3360574d",
   "metadata": {},
   "outputs": [
    {
     "data": {
      "text/plain": [
       "[2, 4, 6, 8]"
      ]
     },
     "execution_count": 21,
     "metadata": {},
     "output_type": "execute_result"
    }
   ],
   "source": [
    "num = list(range(1,10))\n",
    "square = list(filter(lambda x:x%2==0 ,num))\n",
    "square"
   ]
  },
  {
   "cell_type": "markdown",
   "id": "c92f8e28",
   "metadata": {},
   "source": [
    "## reduce()"
   ]
  },
  {
   "cell_type": "markdown",
   "id": "fa27622a",
   "metadata": {},
   "source": [
    "### reduce() can have iterables of same type as input"
   ]
  },
  {
   "cell_type": "code",
   "execution_count": 22,
   "id": "549bdb24",
   "metadata": {},
   "outputs": [
    {
     "data": {
      "text/plain": [
       "5040"
      ]
     },
     "execution_count": 22,
     "metadata": {},
     "output_type": "execute_result"
    }
   ],
   "source": [
    "from functools import reduce\n",
    "num = [1,2,3,4,5,6,7]\n",
    "reduce(lambda a,b: a*b,num)"
   ]
  },
  {
   "cell_type": "code",
   "execution_count": null,
   "id": "b41a741c",
   "metadata": {},
   "outputs": [],
   "source": []
  }
 ],
 "metadata": {
  "kernelspec": {
   "display_name": "Python 3",
   "language": "python",
   "name": "python3"
  },
  "language_info": {
   "codemirror_mode": {
    "name": "ipython",
    "version": 3
   },
   "file_extension": ".py",
   "mimetype": "text/x-python",
   "name": "python",
   "nbconvert_exporter": "python",
   "pygments_lexer": "ipython3",
   "version": "3.8.8"
  }
 },
 "nbformat": 4,
 "nbformat_minor": 5
}
